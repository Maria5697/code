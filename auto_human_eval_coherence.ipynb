{
 "cells": [
  {
   "cell_type": "code",
   "execution_count": null,
   "id": "97359f12",
   "metadata": {},
   "outputs": [],
   "source": [
    "import pandas as pd\n",
    "from sklearn.model_selection import train_test_split\n",
    "\n",
    "# Загрузим таблицу с вопросами\n",
    "df = pd.read_excel(\"questions.xlsx\")  # должна содержать 'topic' и 'nli_label'\n",
    "\n",
    "# Создаем комбинированную метку\n",
    "df['strata'] = df['topic'].astype(str) + '|'  + '|' + df['correctness_response_nli'].astype(str)\n",
    "\n"
   ]
  },
  {
   "cell_type": "code",
   "execution_count": 11,
   "id": "33af6a22",
   "metadata": {},
   "outputs": [
    {
     "name": "stdout",
     "output_type": "stream",
     "text": [
      "strata\n",
      "отчеты и выгрузки|згп|2                                 1\n",
      "отчеты и выгрузки|инцидент|0                            1\n",
      "работа продукта|кубики|2                                1\n",
      "работа продукта|кубики|0                                1\n",
      "отчеты и выгрузки|выгрузка|0                            1\n",
      "перевод на специалиста|правило валидации|0              1\n",
      "функционалы|PPD|1                                       1\n",
      "отчеты и выгрузки|Отчеты|0                              1\n",
      "функционалы|ВВП|0                                       1\n",
      "функционалы|PPD|0                                       1\n",
      "перевод в запрос|перевод в запрос|1                     1\n",
      "инцидент- менеджмент|стоимость направления на ТП|0      1\n",
      "перевод на специалиста|фикс продукты|1                  1\n",
      "работа продукта|блокировки|0                            1\n",
      "перевод в запрос|перевод  в запрос на тестирование|1    1\n",
      "отчеты и выгрузки|работа продукта|1                     1\n",
      "функционалы|источники обращения|0                       1\n",
      "инцидент- менеджмент|инцидент|0                         1\n",
      "работа продукта|Округление на ТП|0                      1\n",
      "работа продукта|тарифный план|0                         1\n",
      "функционалы|источники обращения|1                       1\n",
      "работа продукта|информирование|0                        1\n",
      "работа продукта|блокировки|2                            1\n",
      "работа продукта|автопродление на ТП|0                   1\n",
      "работа продукта|добавление/удаление услуг|1             1\n",
      "работа продукта|услуги|2                                1\n",
      "работа продукта|информирование|2                        1\n",
      "Функционалы|Информирование|0                            1\n",
      "Функционалы|Информирование|2                            1\n",
      "Отчеты и выгрузки|выгрузка|1                            1\n",
      "работа продукта|турбо-кнопка|2                          1\n",
      "работа продукта|перенос остатков интернета|0            1\n",
      "работа продукта|МК|0                                    1\n",
      "функционалы|биллинговая группа|1                        1\n",
      "Name: count, dtype: int64\n"
     ]
    }
   ],
   "source": [
    "strata_counts = df['strata'].value_counts()\n",
    "print(strata_counts[strata_counts < 2])"
   ]
  },
  {
   "cell_type": "code",
   "execution_count": 1,
   "id": "523257aa",
   "metadata": {},
   "outputs": [
    {
     "name": "stdout",
     "output_type": "stream",
     "text": [
      "Готово! Файл сохранён как human_eval_sample_2004.xlsx\n"
     ]
    }
   ],
   "source": [
    "import pandas as pd\n",
    "from sklearn.model_selection import train_test_split\n",
    "\n",
    "# Загрузите ваш файл с вопросами\n",
    "df = pd.read_excel(\"questions.xlsx\")   # Убедитесь, что есть колонки: 'topic' и 'nli_label'\n",
    "\n",
    "# Создание страты из темы и метки\n",
    "df['strata'] = df['topic'].astype(str) + '|' + df['correctness_response_nli'].astype(str)\n",
    "\n",
    "# Подсчёт количества в каждой страте\n",
    "strata_counts = df['strata'].value_counts()\n",
    "\n",
    "# Выделение редких страт (меньше 2)\n",
    "rare_strata = strata_counts[strata_counts < 2].index\n",
    "rare_samples = df[df['strata'].isin(rare_strata)].copy()\n",
    "rare_samples['is_rare'] = True\n",
    "\n",
    "# Остальные вопросы (без редких)\n",
    "df_remaining = df[~df.index.isin(rare_samples.index)].copy()\n",
    "df_remaining['is_rare'] = False\n",
    "\n",
    "# Сколько ещё нужно вопросов (чтобы в сумме было 50)\n",
    "n_needed = 50 - len(rare_samples)\n",
    "\n",
    "# Стратифицированная выборка из оставшихся\n",
    "_, strat_sample = train_test_split(\n",
    "    df_remaining,\n",
    "    test_size=n_needed,\n",
    "    stratify=df_remaining['strata'],\n",
    "    random_state=42\n",
    ")\n",
    "\n",
    "# Объединение редких и стратифицированных\n",
    "final_sample = pd.concat([rare_samples, strat_sample])\n",
    "final_sample = final_sample.sample(frac=1, random_state=42).reset_index(drop=True)\n",
    "final_sample=final_sample.merge(df[['initial_question','faithfulness_response_nli']], on='initial_question', how='left')\n",
    "\n",
    "# Выгрузка в Excel\n",
    "final_sample.to_excel(\"human_eval_sample_2004.xlsx\", index=False)\n",
    "\n",
    "print(\"Готово! Файл сохранён как human_eval_sample_2004.xlsx\")"
   ]
  },
  {
   "cell_type": "code",
   "execution_count": 3,
   "id": "368c6090",
   "metadata": {},
   "outputs": [
    {
     "name": "stdout",
     "output_type": "stream",
     "text": [
      "                     pair  cohen_kappa       mcc\n",
      "0      expert_main vs Аня     1.000000  1.000000\n",
      "1   expert_main vs Таня к     0.523810  0.523810\n",
      "2  expert_main vs Ксюша С     0.615385  0.666667\n",
      "3     expert_main vs Катя     0.444444  0.534522\n",
      "4  expert_main vs Ксюша И     0.782609  0.801784\n",
      "\n",
      "Средний Cohen's Kappa: 0.673\n",
      "Средний MCC: 0.705\n"
     ]
    }
   ],
   "source": [
    "import pandas as pd\n",
    "from sklearn.metrics import cohen_kappa_score, matthews_corrcoef\n",
    "\n",
    "# Предположим, данные уже загружены в DataFrame data\n",
    "data = pd.read_excel('human_eval_sample.xlsx')\n",
    "\n",
    "# Получаем список уникальных дополнительных экспертов\n",
    "experts = data['expert_name'].unique()\n",
    "\n",
    "results = []\n",
    "\n",
    "for expert in experts:\n",
    "    # выбираем данные для текущего эксперта\n",
    "    df_expert = data[data['expert_name'] == expert]\n",
    "    main_scores = df_expert['correctness_me']\n",
    "    other_scores = df_expert['correctness_other']\n",
    "    \n",
    "    # считаем Cohen's Kappa\n",
    "    kappa = cohen_kappa_score(main_scores, other_scores)\n",
    "    \n",
    "    # считаем MCC\n",
    "    mcc = matthews_corrcoef(main_scores, other_scores)\n",
    "    \n",
    "    results.append({\n",
    "        'pair': f'expert_main vs {expert}',\n",
    "        'cohen_kappa': kappa,\n",
    "        'mcc': mcc\n",
    "    })\n",
    "\n",
    "# создаем таблицу результатов\n",
    "results_df = pd.DataFrame(results)\n",
    "\n",
    "print(results_df)\n",
    "\n",
    "# Средние значения\n",
    "mean_kappa = results_df['cohen_kappa'].mean()\n",
    "mean_mcc = results_df['mcc'].mean()\n",
    "\n",
    "print(f'\\nСредний Cohen\\'s Kappa: {mean_kappa:.3f}')\n",
    "print(f'Средний MCC: {mean_mcc:.3f}')"
   ]
  },
  {
   "cell_type": "code",
   "execution_count": 48,
   "id": "fb57953a",
   "metadata": {},
   "outputs": [
    {
     "name": "stdout",
     "output_type": "stream",
     "text": [
      "Согласованность по корректности:\n",
      "                     pair  cohen_kappa       mcc\n",
      "0     expert_main vs Катя     0.444444  0.534522\n",
      "1   expert_main vs Таня к     0.523810  0.523810\n",
      "2      expert_main vs Аня     1.000000  1.000000\n",
      "3  expert_main vs Ксюша И     0.782609  0.801784\n",
      "4  expert_main vs Ксюша С     0.615385  0.666667\n",
      "\n",
      "Согласованность по галлюцинациям:\n",
      "                     pair  cohen_kappa       mcc\n",
      "0     expert_main vs Катя     1.000000  1.000000\n",
      "1   expert_main vs Таня к     1.000000  1.000000\n",
      "2      expert_main vs Аня     1.000000  1.000000\n",
      "3  expert_main vs Ксюша И     1.000000  1.000000\n",
      "4  expert_main vs Ксюша С     0.782609  0.801784\n",
      "\n",
      "Средний Cohen's Kappa по корректности: 0.6732\n",
      "Средний MCC по корректности: 0.7054\n",
      "\n",
      "Средний Cohen's Kappa по галлюцинациям: 0.9565\n",
      "Средний MCC по галлюцинациям: 0.9604\n"
     ]
    }
   ],
   "source": [
    "import pandas as pd\n",
    "from sklearn.metrics import cohen_kappa_score, matthews_corrcoef\n",
    "\n",
    "# Предположим, данные уже загружены в DataFrame data\n",
    "data = pd.read_excel('human_eval_sample.xlsx')\n",
    "\n",
    "# Получаем список уникальных дополнительных экспертов\n",
    "experts = data['expert_name'].unique()\n",
    "\n",
    "results_correctness = []\n",
    "results_hallucinations = []\n",
    "\n",
    "for expert in experts:\n",
    "    # выбираем данные для текущего эксперта\n",
    "    df_expert = data[data['expert_name'] == expert]\n",
    "    \n",
    "    # Согласованность по корректности\n",
    "    main_correctness_scores = df_expert['correctness_me']\n",
    "    other_correctness_scores = df_expert['correctness_other']\n",
    "    \n",
    "    kappa_correctness = cohen_kappa_score(main_correctness_scores, other_correctness_scores)\n",
    "    mcc_correctness = matthews_corrcoef(main_correctness_scores, other_correctness_scores)\n",
    "    \n",
    "    results_correctness.append({\n",
    "        'pair': f'expert_main vs {expert}',\n",
    "        'cohen_kappa': kappa_correctness,\n",
    "        'mcc': mcc_correctness\n",
    "    })\n",
    "    \n",
    "    # Согласованность по галлюцинациям\n",
    "    main_hallucinations_scores = df_expert['halucinations_me']\n",
    "    other_hallucinations_scores = df_expert['halucinations_other']\n",
    "    \n",
    "    kappa_hallucinations = cohen_kappa_score(main_hallucinations_scores, other_hallucinations_scores)\n",
    "    mcc_hallucinations = matthews_corrcoef(main_hallucinations_scores, other_hallucinations_scores)\n",
    "    \n",
    "    results_hallucinations.append({\n",
    "        'pair': f'expert_main vs {expert}',\n",
    "        'cohen_kappa': kappa_hallucinations,\n",
    "        'mcc': mcc_hallucinations\n",
    "    })\n",
    "\n",
    "# создаем таблицы результатов\n",
    "results_df_correctness = pd.DataFrame(results_correctness)\n",
    "results_df_hallucinations = pd.DataFrame(results_hallucinations)\n",
    "\n",
    "print(\"Согласованность по корректности:\")\n",
    "print(results_df_correctness)\n",
    "\n",
    "print(\"\\nСогласованность по галлюцинациям:\")\n",
    "print(results_df_hallucinations)\n",
    "\n",
    "# Средние значения для корректности\n",
    "mean_kappa_correctness = results_df_correctness['cohen_kappa'].mean()\n",
    "mean_mcc_correctness = results_df_correctness['mcc'].mean()\n",
    "\n",
    "print(f'\\nСредний Cohen\\'s Kappa по корректности: {mean_kappa_correctness:.4f}')\n",
    "print(f'Средний MCC по корректности: {mean_mcc_correctness:.4f}')\n",
    "\n",
    "# Средние значения для галлюцинаций\n",
    "mean_kappa_hallucinations = results_df_hallucinations['cohen_kappa'].mean()\n",
    "mean_mcc_hallucinations = results_df_hallucinations['mcc'].mean()\n",
    "\n",
    "print(f'\\nСредний Cohen\\'s Kappa по галлюцинациям: {mean_kappa_hallucinations:.4f}')\n",
    "print(f'Средний MCC по галлюцинациям: {mean_mcc_hallucinations:.4f}')"
   ]
  },
  {
   "cell_type": "code",
   "execution_count": 50,
   "id": "c57bc6f2",
   "metadata": {},
   "outputs": [],
   "source": [
    "data['correctness_nli'] = data['correctness_response_nli'].apply(lambda x: 1 if x == 0 else 0)"
   ]
  },
  {
   "cell_type": "code",
   "execution_count": 51,
   "id": "59031454",
   "metadata": {},
   "outputs": [
    {
     "name": "stdout",
     "output_type": "stream",
     "text": [
      "Cohen's Kappa: 0.5424\n",
      "MCC: 0.5546\n"
     ]
    }
   ],
   "source": [
    "kappa = cohen_kappa_score(data['correctness_other'], data['correctness_nli'])\n",
    "mcc = matthews_corrcoef(data['correctness_other'], data['correctness_nli'])\n",
    "\n",
    "print(f\"Cohen's Kappa: {kappa:.4f}\")\n",
    "print(f\"MCC: {mcc:.4f}\")"
   ]
  },
  {
   "cell_type": "code",
   "execution_count": null,
   "id": "d703ba88",
   "metadata": {},
   "outputs": [
    {
     "name": "stdout",
     "output_type": "stream",
     "text": [
      "Cohen's Kappa: 0.692\n",
      "MCC: 0.693\n"
     ]
    }
   ],
   "source": [
    "kappa = cohen_kappa_score(data['correctness_me'], data['correctness_nli'])\n",
    "mcc = matthews_corrcoef(data['correctness_me'], data['correctness_nli'])\n",
    "\n",
    "print(f\"Cohen's Kappa: {kappa:.4f}\")\n",
    "print(f\"MCC: {mcc:.4f}\")"
   ]
  },
  {
   "cell_type": "code",
   "execution_count": 35,
   "id": "c18eb176",
   "metadata": {},
   "outputs": [],
   "source": [
    "import pandas as pd\n",
    "\n",
    "# Загрузите основной DataFrame\n",
    "data = pd.read_excel('human_eval_sample.xlsx')\n",
    "\n",
    "# Загрузите дополнительный DataFrame из другого файла\n",
    "additional_data = pd.read_excel('questions.xlsx')\n",
    "\n",
    "# Объединяем два DataFrame на основе столбца 'initial_question'\n",
    "# Используем how='inner' для исключения строк, где нет совпадений\n",
    "merged_data = pd.merge(data, additional_data[['response', 'faithfulness_response_nli']], on='response', how='inner')\n",
    "\n",
    "# Теперь merged_data содержит только строки с совпадениями из обоих DataFrame\n"
   ]
  },
  {
   "cell_type": "code",
   "execution_count": 36,
   "id": "3bfe776e",
   "metadata": {},
   "outputs": [],
   "source": [
    "merged_data['faithfulness_response_nli_0'] = merged_data['faithfulness_response_nli'].apply(lambda x: 1 if x == 2 else 0)"
   ]
  },
  {
   "cell_type": "code",
   "execution_count": 37,
   "id": "615b6ce4",
   "metadata": {},
   "outputs": [],
   "source": [
    "merged_data['faithfulness_response_nli_1'] = merged_data['faithfulness_response_nli'].apply(lambda x: 1 if x in [1, 2] else 0)"
   ]
  },
  {
   "cell_type": "code",
   "execution_count": null,
   "id": "6e4ea3db",
   "metadata": {},
   "outputs": [
    {
     "name": "stdout",
     "output_type": "stream",
     "text": [
      "Cohen's Kappa: -0.081\n",
      "MCC: -0.082\n"
     ]
    }
   ],
   "source": [
    "#contradiction\n",
    "kappa = cohen_kappa_score(merged_data['halucinations_me'], merged_data['faithfulness_response_nli_0'])\n",
    "mcc = matthews_corrcoef(merged_data['halucinations_me'], merged_data['faithfulness_response_nli_0'])\n",
    "\n",
    "print(f\"Cohen's Kappa: {kappa:.4f}\")\n",
    "print(f\"MCC: {mcc:.4f}\")"
   ]
  },
  {
   "cell_type": "code",
   "execution_count": null,
   "id": "efdcf114",
   "metadata": {},
   "outputs": [
    {
     "name": "stdout",
     "output_type": "stream",
     "text": [
      "Cohen's Kappa: -0.098\n",
      "MCC: -0.100\n"
     ]
    }
   ],
   "source": [
    "#contradiction\n",
    "kappa = cohen_kappa_score(merged_data['halucinations_other'], merged_data['faithfulness_response_nli_0'])\n",
    "mcc = matthews_corrcoef(merged_data['halucinations_other'], merged_data['faithfulness_response_nli_0'])\n",
    "\n",
    "print(f\"Cohen's Kappa: {kappa:.4f}\")\n",
    "print(f\"MCC: {mcc:.4f}\")"
   ]
  },
  {
   "cell_type": "code",
   "execution_count": null,
   "id": "247ba23d",
   "metadata": {},
   "outputs": [
    {
     "name": "stdout",
     "output_type": "stream",
     "text": [
      "Cohen's Kappa: 0.122\n",
      "MCC: 0.161\n"
     ]
    }
   ],
   "source": [
    "#contradiction+neutral\n",
    "kappa = cohen_kappa_score(merged_data['halucinations_me'], merged_data['faithfulness_response_nli_1'])\n",
    "mcc = matthews_corrcoef(merged_data['halucinations_me'], merged_data['faithfulness_response_nli_1'])\n",
    "\n",
    "print(f\"Cohen's Kappa: {kappa:.4f}\")\n",
    "print(f\"MCC: {mcc:.4f}\")"
   ]
  },
  {
   "cell_type": "code",
   "execution_count": null,
   "id": "25fe584f",
   "metadata": {},
   "outputs": [
    {
     "name": "stdout",
     "output_type": "stream",
     "text": [
      "Cohen's Kappa: 0.081\n",
      "MCC: 0.103\n"
     ]
    }
   ],
   "source": [
    "#contradiction+neutral\n",
    "kappa = cohen_kappa_score(merged_data['halucinations_other'], merged_data['faithfulness_response_nli_1'])\n",
    "mcc = matthews_corrcoef(merged_data['halucinations_other'], merged_data['faithfulness_response_nli_1'])\n",
    "\n",
    "print(f\"Cohen's Kappa: {kappa:.4}\")\n",
    "print(f\"MCC: {mcc:.4f}\")"
   ]
  },
  {
   "cell_type": "code",
   "execution_count": null,
   "id": "ac4da71f",
   "metadata": {},
   "outputs": [],
   "source": []
  }
 ],
 "metadata": {
  "kernelspec": {
   "display_name": "Python 3",
   "language": "python",
   "name": "python3"
  },
  "language_info": {
   "codemirror_mode": {
    "name": "ipython",
    "version": 3
   },
   "file_extension": ".py",
   "mimetype": "text/x-python",
   "name": "python",
   "nbconvert_exporter": "python",
   "pygments_lexer": "ipython3",
   "version": "3.13.0"
  }
 },
 "nbformat": 4,
 "nbformat_minor": 5
}
