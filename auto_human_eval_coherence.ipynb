{
 "cells": [
  {
   "cell_type": "code",
   "execution_count": null,
   "id": "fb57953a",
   "metadata": {},
   "outputs": [
    {
     "name": "stdout",
     "output_type": "stream",
     "text": [
      "Согласованность по корректности:\n",
      "                     pair  cohen_kappa       mcc\n",
      "0     expert_main vs Катя     0.444444  0.534522\n",
      "1   expert_main vs Таня к     0.523810  0.523810\n",
      "2      expert_main vs Аня     1.000000  1.000000\n",
      "3  expert_main vs Ксюша И     0.782609  0.801784\n",
      "4  expert_main vs Ксюша С     0.615385  0.666667\n",
      "\n",
      "Согласованность по галлюцинациям:\n",
      "                     pair  cohen_kappa       mcc\n",
      "0     expert_main vs Катя     1.000000  1.000000\n",
      "1   expert_main vs Таня к     1.000000  1.000000\n",
      "2      expert_main vs Аня     1.000000  1.000000\n",
      "3  expert_main vs Ксюша И     1.000000  1.000000\n",
      "4  expert_main vs Ксюша С     0.782609  0.801784\n",
      "\n",
      "Средний Cohen's Kappa по корректности: 0.6732\n",
      "Средний MCC по корректности: 0.7054\n",
      "\n",
      "Средний Cohen's Kappa по галлюцинациям: 0.9565\n",
      "Средний MCC по галлюцинациям: 0.9604\n"
     ]
    }
   ],
   "source": [
    "import pandas as pd\n",
    "from sklearn.metrics import cohen_kappa_score, matthews_corrcoef\n",
    "\n",
    "\n",
    "data = pd.read_excel('human_eval_sample.xlsx')\n",
    "\n",
    "\n",
    "experts = data['expert_name'].unique()\n",
    "\n",
    "results_correctness = []\n",
    "results_hallucinations = []\n",
    "\n",
    "for expert in experts:\n",
    "\n",
    "    df_expert = data[data['expert_name'] == expert]\n",
    "    \n",
    "    # Согласованность по корректности\n",
    "    main_correctness_scores = df_expert['correctness_me']\n",
    "    other_correctness_scores = df_expert['correctness_other']\n",
    "    \n",
    "    kappa_correctness = cohen_kappa_score(main_correctness_scores, other_correctness_scores)\n",
    "    mcc_correctness = matthews_corrcoef(main_correctness_scores, other_correctness_scores)\n",
    "    \n",
    "    results_correctness.append({\n",
    "        'pair': f'expert_main vs {expert}',\n",
    "        'cohen_kappa': kappa_correctness,\n",
    "        'mcc': mcc_correctness\n",
    "    })\n",
    "    \n",
    "    # Согласованность по галлюцинациям\n",
    "    main_hallucinations_scores = df_expert['halucinations_me']\n",
    "    other_hallucinations_scores = df_expert['halucinations_other']\n",
    "    \n",
    "    kappa_hallucinations = cohen_kappa_score(main_hallucinations_scores, other_hallucinations_scores)\n",
    "    mcc_hallucinations = matthews_corrcoef(main_hallucinations_scores, other_hallucinations_scores)\n",
    "    \n",
    "    results_hallucinations.append({\n",
    "        'pair': f'expert_main vs {expert}',\n",
    "        'cohen_kappa': kappa_hallucinations,\n",
    "        'mcc': mcc_hallucinations\n",
    "    })\n",
    "\n",
    "\n",
    "results_df_correctness = pd.DataFrame(results_correctness)\n",
    "results_df_hallucinations = pd.DataFrame(results_hallucinations)\n",
    "\n",
    "print(\"Согласованность по корректности:\")\n",
    "print(results_df_correctness)\n",
    "\n",
    "print(\"\\nСогласованность по галлюцинациям:\")\n",
    "print(results_df_hallucinations)\n",
    "\n",
    "\n",
    "mean_kappa_correctness = results_df_correctness['cohen_kappa'].mean()\n",
    "mean_mcc_correctness = results_df_correctness['mcc'].mean()\n",
    "\n",
    "print(f'\\nСредний Cohen\\'s Kappa по корректности: {mean_kappa_correctness:.4f}')\n",
    "print(f'Средний MCC по корректности: {mean_mcc_correctness:.4f}')\n",
    "\n",
    "mean_kappa_hallucinations = results_df_hallucinations['cohen_kappa'].mean()\n",
    "mean_mcc_hallucinations = results_df_hallucinations['mcc'].mean()\n",
    "\n",
    "print(f'\\nСредний Cohen\\'s Kappa по галлюцинациям: {mean_kappa_hallucinations:.4f}')\n",
    "print(f'Средний MCC по галлюцинациям: {mean_mcc_hallucinations:.4f}')"
   ]
  },
  {
   "cell_type": "code",
   "execution_count": 50,
   "id": "c57bc6f2",
   "metadata": {},
   "outputs": [],
   "source": [
    "data['correctness_nli'] = data['correctness_response_nli'].apply(lambda x: 1 if x == 0 else 0)"
   ]
  },
  {
   "cell_type": "code",
   "execution_count": 51,
   "id": "59031454",
   "metadata": {},
   "outputs": [
    {
     "name": "stdout",
     "output_type": "stream",
     "text": [
      "Cohen's Kappa: 0.5424\n",
      "MCC: 0.5546\n"
     ]
    }
   ],
   "source": [
    "kappa = cohen_kappa_score(data['correctness_other'], data['correctness_nli'])\n",
    "mcc = matthews_corrcoef(data['correctness_other'], data['correctness_nli'])\n",
    "\n",
    "print(f\"Cohen's Kappa: {kappa:.4f}\")\n",
    "print(f\"MCC: {mcc:.4f}\")"
   ]
  },
  {
   "cell_type": "code",
   "execution_count": null,
   "id": "d703ba88",
   "metadata": {},
   "outputs": [
    {
     "name": "stdout",
     "output_type": "stream",
     "text": [
      "Cohen's Kappa: 0.692\n",
      "MCC: 0.693\n"
     ]
    }
   ],
   "source": [
    "kappa = cohen_kappa_score(data['correctness_me'], data['correctness_nli'])\n",
    "mcc = matthews_corrcoef(data['correctness_me'], data['correctness_nli'])\n",
    "\n",
    "print(f\"Cohen's Kappa: {kappa:.4f}\")\n",
    "print(f\"MCC: {mcc:.4f}\")"
   ]
  },
  {
   "cell_type": "code",
   "execution_count": null,
   "id": "3bfe776e",
   "metadata": {},
   "outputs": [],
   "source": [
    "data['faithfulness_response_nli_0'] = data['faithfulness_response_nli'].apply(lambda x: 1 if x == 2 else 0)"
   ]
  },
  {
   "cell_type": "code",
   "execution_count": null,
   "id": "615b6ce4",
   "metadata": {},
   "outputs": [],
   "source": [
    "data['faithfulness_response_nli_1'] = data['faithfulness_response_nli'].apply(lambda x: 1 if x in [1, 2] else 0)"
   ]
  },
  {
   "cell_type": "code",
   "execution_count": null,
   "id": "6e4ea3db",
   "metadata": {},
   "outputs": [
    {
     "name": "stdout",
     "output_type": "stream",
     "text": [
      "Cohen's Kappa: -0.081\n",
      "MCC: -0.082\n"
     ]
    }
   ],
   "source": [
    "#contradiction\n",
    "kappa = cohen_kappa_score(data['halucinations_me'], data['faithfulness_response_nli_0'])\n",
    "mcc = matthews_corrcoef(data['halucinations_me'], data['faithfulness_response_nli_0'])\n",
    "\n",
    "print(f\"Cohen's Kappa: {kappa:.4f}\")\n",
    "print(f\"MCC: {mcc:.4f}\")"
   ]
  },
  {
   "cell_type": "code",
   "execution_count": null,
   "id": "efdcf114",
   "metadata": {},
   "outputs": [
    {
     "name": "stdout",
     "output_type": "stream",
     "text": [
      "Cohen's Kappa: -0.098\n",
      "MCC: -0.100\n"
     ]
    }
   ],
   "source": [
    "#contradiction\n",
    "kappa = cohen_kappa_score(data['halucinations_other'], data['faithfulness_response_nli_0'])\n",
    "mcc = matthews_corrcoef(data['halucinations_other'], data['faithfulness_response_nli_0'])\n",
    "\n",
    "print(f\"Cohen's Kappa: {kappa:.4f}\")\n",
    "print(f\"MCC: {mcc:.4f}\")"
   ]
  },
  {
   "cell_type": "code",
   "execution_count": null,
   "id": "247ba23d",
   "metadata": {},
   "outputs": [
    {
     "name": "stdout",
     "output_type": "stream",
     "text": [
      "Cohen's Kappa: 0.122\n",
      "MCC: 0.161\n"
     ]
    }
   ],
   "source": [
    "#contradiction+neutral\n",
    "kappa = cohen_kappa_score(data['halucinations_me'], data['faithfulness_response_nli_1'])\n",
    "mcc = matthews_corrcoef(data['halucinations_me'], data['faithfulness_response_nli_1'])\n",
    "\n",
    "print(f\"Cohen's Kappa: {kappa:.4f}\")\n",
    "print(f\"MCC: {mcc:.4f}\")"
   ]
  },
  {
   "cell_type": "code",
   "execution_count": null,
   "id": "25fe584f",
   "metadata": {},
   "outputs": [
    {
     "name": "stdout",
     "output_type": "stream",
     "text": [
      "Cohen's Kappa: 0.081\n",
      "MCC: 0.103\n"
     ]
    }
   ],
   "source": [
    "#contradiction+neutral\n",
    "kappa = cohen_kappa_score(data['halucinations_other'], data['faithfulness_response_nli_1'])\n",
    "mcc = matthews_corrcoef(data['halucinations_other'], data['faithfulness_response_nli_1'])\n",
    "\n",
    "print(f\"Cohen's Kappa: {kappa:.4}\")\n",
    "print(f\"MCC: {mcc:.4f}\")"
   ]
  },
  {
   "cell_type": "code",
   "execution_count": null,
   "id": "ac4da71f",
   "metadata": {},
   "outputs": [],
   "source": []
  }
 ],
 "metadata": {
  "kernelspec": {
   "display_name": "Python 3",
   "language": "python",
   "name": "python3"
  },
  "language_info": {
   "codemirror_mode": {
    "name": "ipython",
    "version": 3
   },
   "file_extension": ".py",
   "mimetype": "text/x-python",
   "name": "python",
   "nbconvert_exporter": "python",
   "pygments_lexer": "ipython3",
   "version": "3.13.0"
  }
 },
 "nbformat": 4,
 "nbformat_minor": 5
}
